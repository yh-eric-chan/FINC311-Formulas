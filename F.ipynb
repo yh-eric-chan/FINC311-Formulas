{
 "cells": [
  {
   "cell_type": "code",
   "execution_count": 7,
   "metadata": {},
   "outputs": [
    {
     "name": "stdout",
     "output_type": "stream",
     "text": [
      "The semiannual coupon payment is $58.80\n",
      "The annual coupon rate is 11.76%\n"
     ]
    }
   ],
   "source": [
    "# Given values\n",
    "price = 1200 # Price of the bond\n",
    "par_value = 1000  # Par value of the bond\n",
    "annual_yield_to_maturity = 0.09  # Annual yield to maturity (as a decimal)\n",
    "n_years = 12  # Maturity of the bond in years\n",
    "\n",
    "# Calculating semiannual values\n",
    "semiannual_yield = annual_yield_to_maturity / 2  # Semiannual yield to maturity\n",
    "n_periods = n_years * 2  # Total number of semiannual periods\n",
    "\n",
    "# Using the bond pricing formula, rearranged to solve for the semiannual coupon payment (C)\n",
    "# price = C * ((1 - (1 + semiannual_yield) ** -n_periods) / semiannual_yield) + (par_value / (1 + semiannual_yield) ** n_periods)\n",
    "\n",
    "# Rearranging the formula to solve for C\n",
    "x = (price - (par_value / (1 + semiannual_yield) ** n_periods)) / ((1 - (1 + semiannual_yield) ** -n_periods) / semiannual_yield)\n",
    "\n",
    "# Calculating the annual coupon rate\n",
    "C = x * 2\n",
    "\n",
    "coupon_rate = C / par_value  # Annual\n",
    "\n",
    "\n",
    "print(\"The semiannual coupon payment is ${:.2f}\".format(x))\n",
    "print(\"The annual coupon rate is {:.2%}\".format(coupon_rate))\n"
   ]
  },
  {
   "cell_type": "code",
   "execution_count": 12,
   "metadata": {},
   "outputs": [
    {
     "data": {
      "text/plain": [
       "491.9337363395089"
      ]
     },
     "execution_count": 12,
     "metadata": {},
     "output_type": "execute_result"
    }
   ],
   "source": [
    "# Given values for the zero-coupon bond\n",
    "par_value_zero_coupon = 1000  # Par value of the zero-coupon bond\n",
    "annual_yield_to_maturity_zero_coupon = 0.06  # Annual yield to maturity (as a decimal)\n",
    "n_years_zero_coupon = 12  # Maturity of the bond in years\n",
    "\n",
    "# Calculating semiannual values for the zero-coupon bond\n",
    "semiannual_yield_zero_coupon = annual_yield_to_maturity_zero_coupon / 2  # Semiannual yield to maturity\n",
    "n_periods_zero_coupon = n_years_zero_coupon * 2  # Total number of semiannual periods\n",
    "\n",
    "# Using the present value formula for a zero-coupon bond\n",
    "price_zero_coupon = par_value_zero_coupon / ((1 + semiannual_yield_zero_coupon) ** n_periods_zero_coupon)\n",
    "price_zero_coupon\n"
   ]
  },
  {
   "cell_type": "code",
   "execution_count": 16,
   "metadata": {},
   "outputs": [
    {
     "data": {
      "text/plain": [
       "0.049999999999999996"
      ]
     },
     "execution_count": 16,
     "metadata": {},
     "output_type": "execute_result"
    }
   ],
   "source": [
    "# Given values\n",
    "nominal_return = 0.09  # Nominal return (9% as a decimal)\n",
    "inflation_rate = 0.04  # Inflation rate (4% as a decimal)\n",
    "\n",
    "# Calculating the real return\n",
    "real_return = (1 + nominal_return) / (1 + inflation_rate) - 1\n",
    "real_return_percentage = real_return * 100  # Converting back to percentage\n",
    "real_return_percentage\n",
    "\n",
    "arrpoximation =  nominal_return- inflation_rate\n",
    "arrpoximation   "
   ]
  },
  {
   "cell_type": "code",
   "execution_count": 2,
   "metadata": {},
   "outputs": [
    {
     "data": {
      "text/plain": [
       "(45.00000000000001, 60.30430382812503)"
      ]
     },
     "execution_count": 2,
     "metadata": {},
     "output_type": "execute_result"
    }
   ],
   "source": [
    "# Given values\n",
    "dividend = 3  # initial dividend\n",
    "growth_rate = 0.05  # dividend growth rate\n",
    "required_return = 0.12  # required return rate\n",
    "\n",
    "# Calculating current price using the Gordon Growth Model (Dividend Discount Model)\n",
    "# Price = Dividend per share / (Required rate of return - Growth rate)\n",
    "current_price = dividend*(1+growth_rate) / (required_return - growth_rate)\n",
    "\n",
    "# Calculating future price in 6 years\n",
    "# Future price = Current price * (1 + Growth rate) ^ number of years\n",
    "number_of_years = 6\n",
    "future_price = current_price * ((1 + growth_rate) ** number_of_years)\n",
    "\n",
    "current_price, future_price\n"
   ]
  },
  {
   "cell_type": "code",
   "execution_count": 3,
   "metadata": {},
   "outputs": [
    {
     "data": {
      "text/plain": [
       "(7.142857142857142, 28.57142857142857, 35.71428571428571)"
      ]
     },
     "execution_count": 3,
     "metadata": {},
     "output_type": "execute_result"
    }
   ],
   "source": [
    "# Given values\n",
    "current_price_DEF = 42  # current price per share\n",
    "future_price_DEF = 54  # price per share in one year\n",
    "annual_dividend_DEF = 3  # annual dividend per share\n",
    "\n",
    "# Calculating Dividend Yield\n",
    "# Dividend Yield = (Annual Dividend / Current Price) * 100%\n",
    "dividend_yield_DEF = (annual_dividend_DEF / current_price_DEF) * 100\n",
    "\n",
    "# Calculating Capital Gains Yield\n",
    "# Capital Gains Yield = ((Future Price - Current Price) / Current Price) * 100%\n",
    "capital_gains_yield_DEF = ((future_price_DEF - current_price_DEF) / current_price_DEF) * 100\n",
    "\n",
    "# Calculating Total Return\n",
    "# Total Return = Dividend Yield + Capital Gains Yield\n",
    "total_return_DEF = dividend_yield_DEF + capital_gains_yield_DEF\n",
    "\n",
    "dividend_yield_DEF, capital_gains_yield_DEF, total_return_DEF\n"
   ]
  },
  {
   "cell_type": "code",
   "execution_count": 4,
   "metadata": {},
   "outputs": [
    {
     "data": {
      "text/plain": [
       "'realistic_zipcode_data.xlsx'"
      ]
     },
     "execution_count": 4,
     "metadata": {},
     "output_type": "execute_result"
    }
   ],
   "source": [
    "# Generating a more realistic dataset for the provided columns\n",
    "import pandas as pd\n",
    "# Sample realistic data for the given columns\n",
    "realistic_data = {\n",
    "    'Zip': [90001, 19701, 73301, 60601, 90015, 19801, 75201, 60607, 94102, 73301],\n",
    "    'City': ['Los Angeles', 'Bear', 'Austin', 'Chicago', 'Los Angeles', 'Wilmington', 'Dallas', 'Chicago', 'San Francisco', 'Austin'],\n",
    "    'State': ['CA', 'DE', 'TX', 'IL', 'CA', 'DE', 'TX', 'IL', 'CA', 'TX'],\n",
    "    'Address': [\n",
    "        '123 Fake Street', '456 Elm Street', '789 Maple Avenue', '101 Oak Road',\n",
    "        '202 Pine Lane', '303 Birch Boulevard', '404 Cedar Circle', '505 Spruce Stroll',\n",
    "        '606 Ash Alley', '707 Chestnut Chase'\n",
    "    ],\n",
    "    'RegionID': [1, 2, 3, 4, 1, 2, 3, 4, 1, 3]  # Assuming RegionID refers to a regional division that might repeat\n",
    "}\n",
    "\n",
    "# Create DataFrame\n",
    "realistic_df = pd.DataFrame(realistic_data)\n",
    "\n",
    "# Save to an Excel file\n",
    "realistic_excel_path = 'realistic_zipcode_data.xlsx'\n",
    "realistic_df.to_excel(realistic_excel_path, index=False)\n",
    "\n",
    "\n"
   ]
  },
  {
   "cell_type": "code",
   "execution_count": 2,
   "metadata": {},
   "outputs": [
    {
     "name": "stdout",
     "output_type": "stream",
     "text": [
      "3.3000000000000003 3.5970000000000004 3.7049100000000004 3.1132075471698113 3.201317194731221 123.49700000000001 109.91189035243859 116.22641509433961\n"
     ]
    }
   ],
   "source": [
    "# Given values\n",
    "current_dividend = 3  # Current Dividend\n",
    "growth_year_1 = 0.10  # Dividend growth in one year (10%)\n",
    "growth_year_2 = 0.09  # Dividend growth in two years (9%)\n",
    "constant_growth = 0.03  # Constant dividend growth thereafter (3%)\n",
    "required_return = 0.06  # Required return (6%)\n",
    "\n",
    "# Calculate the Dividends for the First Three Years\n",
    "D1 = current_dividend * (1 + growth_year_1)  # Year 1 Dividend\n",
    "D2 = D1 * (1 + growth_year_2)  # Year 2 Dividend\n",
    "D3 = D2 * (1 + constant_growth)  # Year 3 Dividend\n",
    "\n",
    "# Present Value of Dividends for Year 1 and Year 2\n",
    "PV_D1 = D1 / ((1 + required_return) ** 1)\n",
    "PV_D2 = D2 / ((1 + required_return) ** 2)\n",
    "\n",
    "# Stock Price at the End of Year 2 using Gordon Growth Model\n",
    "P2 = D3 / (required_return - constant_growth)\n",
    "\n",
    "# Present Value of Stock Price at the End of Year 2\n",
    "PV_P2 = P2 / ((1 + required_return) ** 2)\n",
    "\n",
    "# Current Stock Price (P0)\n",
    "P0 = PV_D1 + PV_D2 + PV_P2\n",
    "print(D1, D2, D3, PV_D1, PV_D2, P2, PV_P2, P0)\n"
   ]
  },
  {
   "cell_type": "code",
   "execution_count": 3,
   "metadata": {},
   "outputs": [
    {
     "data": {
      "text/plain": [
       "0.11142857142857143"
      ]
     },
     "execution_count": 3,
     "metadata": {},
     "output_type": "execute_result"
    }
   ],
   "source": [
    "# Given values\n",
    "P0 = 28  # Current stock price\n",
    "D1 = 2   # Dividend next year\n",
    "g = 0.04 # Growth rate\n",
    "\n",
    "# Calculating the required return\n",
    "r = D1 / P0 + g\n",
    "r\n"
   ]
  },
  {
   "cell_type": "code",
   "execution_count": 4,
   "metadata": {},
   "outputs": [
    {
     "data": {
      "text/plain": [
       "49.4"
      ]
     },
     "execution_count": 4,
     "metadata": {},
     "output_type": "execute_result"
    }
   ],
   "source": [
    "# Given values\n",
    "EPS = 2.60  # Earnings Per Share\n",
    "PE_ratio = 19  # P/E Ratio\n",
    "\n",
    "# Calculating the appropriate stock price\n",
    "stock_price = EPS * PE_ratio\n",
    "stock_price\n"
   ]
  }
 ],
 "metadata": {
  "kernelspec": {
   "display_name": "base",
   "language": "python",
   "name": "python3"
  },
  "language_info": {
   "codemirror_mode": {
    "name": "ipython",
    "version": 3
   },
   "file_extension": ".py",
   "mimetype": "text/x-python",
   "name": "python",
   "nbconvert_exporter": "python",
   "pygments_lexer": "ipython3",
   "version": "3.9.13"
  }
 },
 "nbformat": 4,
 "nbformat_minor": 2
}
